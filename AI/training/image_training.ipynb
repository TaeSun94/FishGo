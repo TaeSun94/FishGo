{
  "nbformat": 4,
  "nbformat_minor": 0,
  "metadata": {
    "colab": {
      "name": "image_training.ipynb",
      "provenance": [],
      "collapsed_sections": []
    },
    "kernelspec": {
      "name": "python3",
      "display_name": "Python 3"
    },
    "accelerator": "GPU"
  },
  "cells": [
    {
      "cell_type": "markdown",
      "metadata": {
        "id": "WEN1bOmZ10cA"
      },
      "source": [
        "# Ref site: https://medium.com/edit-name/imageai-image-%EC%9D%B8%EC%8B%9D%EC%9D%84-%EB%AA%87-%EC%A4%84%EC%9D%98-%EC%BD%94%EB%93%9C%EB%A1%9C-%ED%95%A0-%EC%88%98-%EC%9E%88%EB%8B%A8%EB%8B%A4-95ee9edc17ee"
      ]
    },
    {
      "cell_type": "markdown",
      "metadata": {
        "id": "xRVtz49I0BxN"
      },
      "source": [
        "# 텐서플로우 버전 변경"
      ]
    },
    {
      "cell_type": "code",
      "metadata": {
        "id": "Z7tQN_N89AHA"
      },
      "source": [
        "!pip uninstall tensorflow"
      ],
      "execution_count": null,
      "outputs": []
    },
    {
      "cell_type": "code",
      "metadata": {
        "id": "urTfgE2-9to4"
      },
      "source": [
        "!pip install tensorflow==1.15"
      ],
      "execution_count": null,
      "outputs": []
    },
    {
      "cell_type": "markdown",
      "metadata": {
        "id": "BwUow-050G_T"
      },
      "source": [
        "# google drive 연결"
      ]
    },
    {
      "cell_type": "code",
      "metadata": {
        "id": "faV41gLR-tut"
      },
      "source": [
        "from google.colab import drive\n",
        "drive.mount('/content/gdrive')"
      ],
      "execution_count": null,
      "outputs": []
    },
    {
      "cell_type": "markdown",
      "metadata": {
        "id": "sqdRWnMh2jrn"
      },
      "source": [
        "# 필요한 라이브러리 install & import"
      ]
    },
    {
      "cell_type": "code",
      "metadata": {
        "id": "1xliy2PF-14T"
      },
      "source": [
        "!pip3 install numpy \n",
        "!pip3 install scipy \n",
        "!pip3 install opencv-python \n",
        "!pip3 install pillow \n",
        "!pip3 install matplotlib \n",
        "!pip3 install h5py \n",
        "!pip3 install keras"
      ],
      "execution_count": null,
      "outputs": []
    },
    {
      "cell_type": "code",
      "metadata": {
        "id": "ax6BNlVj-7F_"
      },
      "source": [
        "!pip3 install https://github.com/OlafenwaMoses/ImageAI/releases/download/2.0.2/imageai-2.0.2-py3-none-any.whl"
      ],
      "execution_count": null,
      "outputs": []
    },
    {
      "cell_type": "code",
      "metadata": {
        "id": "MzyFEsLb2pNi"
      },
      "source": [
        "from io import open\n",
        "import requests\n",
        "import shutil\n",
        "from zipfile import ZipFile\n",
        "import os\n",
        "from imageai.Prediction.Custom import ModelTraining"
      ],
      "execution_count": null,
      "outputs": []
    },
    {
      "cell_type": "markdown",
      "metadata": {
        "id": "J7lpesso0J0N"
      },
      "source": [
        "# 학습데이터 경로 설정 및 파라미터 설정 후 학습\n"
      ]
    },
    {
      "cell_type": "code",
      "metadata": {
        "id": "cUvjgWU5-8nS"
      },
      "source": [
        "DATASET_DIR = '/content/gdrive/My Drive/Colab Notebooks/fishdata'\n",
        "model_trainer = ModelTraining()\n",
        "model_trainer.setModelTypeAsResNet()\n",
        "model_trainer.setDataDirectory(DATASET_DIR)\n",
        "model_trainer.trainModel(\n",
        "   num_objects=4, num_experiments=200, enhance_data=True, \n",
        "   batch_size=10, show_network_summary=True)"
      ],
      "execution_count": null,
      "outputs": []
    }
  ]
}