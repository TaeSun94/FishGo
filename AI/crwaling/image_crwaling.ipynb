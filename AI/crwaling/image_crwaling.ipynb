{
 "cells": [
  {
   "cell_type": "code",
   "execution_count": 10,
   "metadata": {
    "scrolled": true
   },
   "outputs": [
    {
     "name": "stdout",
     "output_type": "stream",
     "text": [
      "Requirement already satisfied: BeautifulSoup4 in c:\\users\\multicampus\\anaconda3\\lib\\site-packages (4.9.3)\n",
      "Requirement already satisfied: soupsieve>1.2; python_version >= \"3.0\" in c:\\users\\multicampus\\anaconda3\\lib\\site-packages (from BeautifulSoup4) (2.0.1)\n",
      "Requirement already satisfied: selenium in c:\\users\\multicampus\\anaconda3\\lib\\site-packages (3.141.0)\n",
      "Requirement already satisfied: urllib3 in c:\\users\\multicampus\\anaconda3\\lib\\site-packages (from selenium) (1.25.10)\n"
     ]
    }
   ],
   "source": [
    "!pip3 install BeautifulSoup4\n",
    "!pip3 install selenium"
   ]
  },
  {
   "cell_type": "code",
   "execution_count": 34,
   "metadata": {},
   "outputs": [],
   "source": [
    "from urllib.request import urlopen # 이미지 읽는데 필요\n",
    "from urllib.request import urlretrieve # 크롤링한 이미지 저장에 필요\n",
    "from urllib.parse import quote_plus # 한글 키워드 입력에 필요\n",
    "from bs4 import BeautifulSoup as bs # 크롤링 필수 라이브러리\n",
    "from selenium import webdriver # 웹드라이버를 여는데 필요"
   ]
  },
  {
   "cell_type": "markdown",
   "metadata": {},
   "source": [
    "### naver crwaling : test image용으로 사용"
   ]
  },
  {
   "cell_type": "code",
   "execution_count": 37,
   "metadata": {},
   "outputs": [
    {
     "name": "stdout",
     "output_type": "stream",
     "text": [
      "우럭\n",
      "농어\n",
      "노래미\n",
      "감성돔\n",
      "볼락\n",
      "숭어\n",
      "도다리\n",
      "참돔\n",
      "뱅에돔\n",
      "돌돔\n",
      "학꽁치\n",
      "광어\n",
      "부시리\n",
      "고등어\n",
      "망둥어\n",
      "삼치\n",
      "망상어\n",
      "보구치\n",
      "독가시치\n",
      "방어\n",
      "민어\n",
      "부세\n",
      "자리돔\n",
      "보리멸\n",
      "짱뚱어\n",
      "간재미\n",
      "전갱이\n",
      "벤자리\n",
      "전어\n",
      "다금바리\n",
      "양태\n"
     ]
    }
   ],
   "source": [
    "baseUrl = 'https://search.naver.com/search.naver?where=image&sm=tab_jum&query='\n",
    "plusUrl = [\"우럭\",\"농어\",\"노래미\",\"감성돔\",\"볼락\",\"숭어\",\"도다리\",\"참돔\",\"뱅에돔\",\"돌돔\",\"학꽁치\",\"광어\",\"부시리\",\"고등어\",\"망둥어\",\"삼치\",\"망상어\",\"보구치\",\"독가시치\",\"방어\",\"민어\",\"부세\",\"자리돔\",\"보리멸\",\"짱뚱어\",\"간재미\",\"전갱이\",\"벤자리\",\"전어\",\"다금바리\",\"양태\"]\n",
    "folder_name = [\"rockfish\",\"bass\",\"hexagrammidae\",\"blackseabream\",\"darkbandedrockfish\",\"mugil\",\"ridgedeyflounder\",\"redsnapper\",\"girellapunctata\",\"stripedbeakperch\",\"japanesehalfbeak\",\"fluke\",\"kingfish\",\"mackerel\",\"goby\",\"spanishmackerel\",\"embiotocidae\",\"whitecroaker\",\"rabbitfish\",\"yellowtai\",\"croaker\",\"largeyellowcroaker\",\"demoiselle\",\"northernwhiting\",\"bluespottedmudhopper\",\"redstingray\",\"horsemackerel\",\"parapristipoma\",\"dottedgizzardshad\",\"longtoothgrouper\",\"platycephalusindicus\"]\n",
    "crwal_num = 50\n",
    "for i in range(len(plusUrl)):\n",
    "    url = baseUrl + quote_plus(plusUrl[i])\n",
    "    html = urlopen(url)\n",
    "    soup = bs(html, \"html.parser\")\n",
    "    img = soup.find_all(class_='_img')\n",
    "    \n",
    "    n = 1\n",
    "    for j in img:\n",
    "        imgUrl = j['data-source']\n",
    "        try:\n",
    "            with urlopen(imgUrl) as f:\n",
    "                with open('./fish_image/' + folder_name[i] + '/testImage/image' + str(n) + '.jpg','wb') as h:\n",
    "                    img = f.read()\n",
    "                    h.write(img)\n",
    "            n += 1\n",
    "            if n > crwal_num:\n",
    "                break\n",
    "        except:\n",
    "            continue\n",
    "    print(plusUrl[i])"
   ]
  },
  {
   "cell_type": "markdown",
   "metadata": {},
   "source": [
    "### google crwaling : training image용으로 사용"
   ]
  },
  {
   "cell_type": "code",
   "execution_count": 27,
   "metadata": {},
   "outputs": [
    {
     "name": "stdout",
     "output_type": "stream",
     "text": [
      "돌돔\n",
      "학꽁치\n",
      "광어\n",
      "부시리\n",
      "고등어\n",
      "망둥어\n",
      "삼치\n",
      "망상어\n",
      "보구치\n",
      "독가시치\n",
      "방어\n"
     ]
    }
   ],
   "source": [
    "keyword = [\"돌돔\",\"학꽁치\",\"광어\",\"부시리\",\"고등어\",\"망둥어\",\"삼치\",\"망상어\",\"보구치\",\"독가시치\",\"방어\"]\n",
    "folder_name = [\"stripedbeakperch\",\"japanesehalfbeak\",\"fluke\",\"kingfish\",\"mackerel\",\"goby\",\"spanishmackerel\",\"embiotocidae\",\"whitecroaker\",\"rabbitfish\",\"yellowtai\"]\n",
    "\n",
    "for i in range(len(keyword)):\n",
    "    search = keyword[i]\n",
    "    url = f'https://www.google.com/search?q={quote_plus(search)}&sxsrf=ALeKk03i9uN-Ymgh3hbaVTzMsjG4OmiUzg:1603172302223&source=lnms&tbm=isch&sa=X&ved=2ahUKEwiPvdmcusLsAhVkJaYKHSOKAa4Q_AUoAXoECAUQAw&biw=767&bih=712&dpr=1.25'\n",
    "    \n",
    "    driver = webdriver.Chrome()\n",
    "    driver.get(url)\n",
    "    \n",
    "    for j in range(500):\n",
    "        driver.execute_script(\"window.scrollBy(0,10000)\")\n",
    "    \n",
    "    html = driver.page_source\n",
    "    soup = BeautifulSoup(html)\n",
    "    img = soup.select('.rg_i.Q4LuWd')\n",
    "    n = 1\n",
    "    imgurl = []\n",
    "    \n",
    "    for j in img:\n",
    "        try:\n",
    "            imgurl.append(j.attrs[\"src\"])\n",
    "        except KeyError:\n",
    "            imgurl.append(j.attrs[\"data-src\"]) # 에러났을 경우 처리\n",
    "\n",
    "    # 이미지 저장\n",
    "    for j in imgurl:\n",
    "        try:\n",
    "            urlretrieve(j, \"fish_image/\" + folder_name[i] + \"/crwalingImage/image\" + str(n) + \".jpg\") # 저장 경로 + 파일명 지정\n",
    "            n += 1\n",
    "        except :\n",
    "            continue\n",
    "    print(keyword[i])\n",
    "    driver.close()\n",
    "# # url 구글에 검색어 입력 후 이미지 탭에 들어가면 나오는 주소\n",
    "# url = f'https://www.google.com/search?q={quote_plus(search)}&sxsrf=ALeKk03i9uN-Ymgh3hbaVTzMsjG4OmiUzg:1603172302223&source=lnms&tbm=isch&sa=X&ved=2ahUKEwiPvdmcusLsAhVkJaYKHSOKAa4Q_AUoAXoECAUQAw&biw=767&bih=712&dpr=1.25'\n",
    "\n",
    "# driver = webdriver.Chrome()\n",
    "# driver.get(url)\n",
    "\n",
    "# # 스크롤 내리며 추가 이미지 크롤링, 최대 400\n",
    "# for i in range(500): \n",
    "#     driver.execute_script(\"window.scrollBy(0,10000)\") \n",
    "    \n",
    "# html = driver.page_source\n",
    "# soup = BeautifulSoup(html)\n",
    "# img = soup.select('.rg_i.Q4LuWd') # 이미지 탭에서 개밸자 콘솔 켜서 나온 사진의 클래스\n",
    "# n = 1\n",
    "# imgurl = []\n",
    "\n",
    "# # 이미지 크롤링\n",
    "# for i in img:\n",
    "#     try:\n",
    "#         imgurl.append(i.attrs[\"src\"])\n",
    "#     except KeyError:\n",
    "#         imgurl.append(i.attrs[\"data-src\"]) # 에러났을 경우 처리\n",
    "        \n",
    "# folder_name = search\n",
    "# # 이미지 저장\n",
    "# for i in imgurl:\n",
    "#     urlretrieve(i, \"fishes/\" + folder_name + \"/img\" + str(n) + \".jpg\") # 저장 경로 + 파일명 지정\n",
    "#     if n==300 :\n",
    "#         n = 700\n",
    "#     n += 1\n",
    "#     print(imgurl)\n",
    "    \n",
    "# dirver.close()"
   ]
  },
  {
   "cell_type": "code",
   "execution_count": null,
   "metadata": {},
   "outputs": [],
   "source": []
  }
 ],
 "metadata": {
  "kernelspec": {
   "display_name": "Python 3",
   "language": "python",
   "name": "python3"
  },
  "language_info": {
   "codemirror_mode": {
    "name": "ipython",
    "version": 3
   },
   "file_extension": ".py",
   "mimetype": "text/x-python",
   "name": "python",
   "nbconvert_exporter": "python",
   "pygments_lexer": "ipython3",
   "version": "3.6.12"
  }
 },
 "nbformat": 4,
 "nbformat_minor": 4
}
