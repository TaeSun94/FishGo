{
 "cells": [
  {
   "cell_type": "code",
   "execution_count": null,
   "metadata": {},
   "outputs": [],
   "source": [
    "!pip3 install BeautifulSoup4\n",
    "!pip3 install selenium"
   ]
  },
  {
   "cell_type": "code",
   "execution_count": null,
   "metadata": {},
   "outputs": [],
   "source": [
    "from urllib.request import urlopen # 이미지 읽는데 필요\n",
    "from urllib.request import urlretrieve # 크롤링한 이미지 저장에 필요\n",
    "from urllib.parse import quote_plus # 한글 키워드 입력에 필요\n",
    "from bs4 import BeautifulSoup # 크롤링 필수 라이브러리\n",
    "from selenium import webdriver # 웹드라이버를 여는데 필요"
   ]
  },
  {
   "cell_type": "code",
   "execution_count": null,
   "metadata": {},
   "outputs": [],
   "source": [
    "search = input('검색어: ')\n",
    "# url 구글에 검색어 입력 후 이미지 탭에 들어가면 나오는 주소\n",
    "url = f'https://www.google.com/search?q={quote_plus(search)}&sxsrf=ALeKk03i9uN-Ymgh3hbaVTzMsjG4OmiUzg:1603172302223&source=lnms&tbm=isch&sa=X&ved=2ahUKEwiPvdmcusLsAhVkJaYKHSOKAa4Q_AUoAXoECAUQAw&biw=767&bih=712&dpr=1.25'\n",
    "\n",
    "driver = webdriver.Chrome()\n",
    "driver.get(url)\n",
    "\n",
    "# 스크롤 내리며 추가 이미지 크롤링, 최대 400\n",
    "for i in range(500): \n",
    "    driver.execute_script(\"window.scrollBy(0,10000)\") \n",
    "    \n",
    "html = driver.page_source\n",
    "soup = BeautifulSoup(html)\n",
    "img = soup.select('.rg_i.Q4LuWd') # 이미지 탭에서 개밸자 콘솔 켜서 나온 사진의 클래스\n",
    "n = 1\n",
    "imgurl = []\n",
    "\n",
    "# 이미지 크롤링\n",
    "for i in img:\n",
    "    try:\n",
    "        imgurl.append(i.attrs[\"src\"])\n",
    "    except KeyError:\n",
    "        imgurl.append(i.attrs[\"data-src\"]) # 에러났을 경우 처리\n",
    "        \n",
    "# 이미지 저장\n",
    "for i in imgurl:\n",
    "    urlretrieve(i, \"fishes/광어/\"+ \"img\" + str(n) + \".jpg\") # 저장 경로 + 파일명 지정\n",
    "    n += 1\n",
    "    print(imgurl)\n",
    "    \n",
    "dirver.close()"
   ]
  }
 ],
 "metadata": {
  "kernelspec": {
   "display_name": "Python 3",
   "language": "python",
   "name": "python3"
  },
  "language_info": {
   "codemirror_mode": {
    "name": "ipython",
    "version": 3
   },
   "file_extension": ".py",
   "mimetype": "text/x-python",
   "name": "python",
   "nbconvert_exporter": "python",
   "pygments_lexer": "ipython3",
   "version": "3.6.12"
  }
 },
 "nbformat": 4,
 "nbformat_minor": 4
}
