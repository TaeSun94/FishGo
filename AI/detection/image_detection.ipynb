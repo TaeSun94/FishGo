{
  "nbformat": 4,
  "nbformat_minor": 0,
  "metadata": {
    "colab": {
      "name": "image_detection",
      "provenance": [],
      "collapsed_sections": []
    },
    "kernelspec": {
      "name": "python3",
      "display_name": "Python 3"
    }
  },
  "cells": [
    {
      "cell_type": "markdown",
      "metadata": {
        "id": "pCEh5bGX1jCJ"
      },
      "source": [
        "# Ref site: https://boysboy3.tistory.com/141 [When will you grow up?]"
      ]
    },
    {
      "cell_type": "markdown",
      "metadata": {
        "id": "-2FuN-Wvwrxv"
      },
      "source": [
        "# 텐서플로우 버전 변경"
      ]
    },
    {
      "cell_type": "code",
      "metadata": {
        "id": "Buv10SiWwd3l"
      },
      "source": [
        "!pip uninstall tensorflow"
      ],
      "execution_count": null,
      "outputs": []
    },
    {
      "cell_type": "code",
      "metadata": {
        "id": "5_quarN5wixp"
      },
      "source": [
        "!pip install tensorflow==1.15"
      ],
      "execution_count": null,
      "outputs": []
    },
    {
      "cell_type": "markdown",
      "metadata": {
        "id": "6D958wY80Yeo"
      },
      "source": [
        "# google drive 연결\n"
      ]
    },
    {
      "cell_type": "code",
      "metadata": {
        "id": "q_y0Yt1gwjYR"
      },
      "source": [
        "from google.colab import drive\n",
        "drive.mount('/content/gdrive')"
      ],
      "execution_count": null,
      "outputs": []
    },
    {
      "cell_type": "markdown",
      "metadata": {
        "id": "BHt5wjfu0gJB"
      },
      "source": [
        "# 필요한 라이브러리 install & import"
      ]
    },
    {
      "cell_type": "code",
      "metadata": {
        "id": "umlNjlz-0iEW"
      },
      "source": [
        "!pip3 install numpy \n",
        "!pip3 install scipy \n",
        "!pip3 install opencv-python \n",
        "!pip3 install pillow \n",
        "!pip3 install matplotlib \n",
        "!pip3 install h5py \n",
        "!pip3 install keras\n",
        "!pip3 install imageai"
      ],
      "execution_count": null,
      "outputs": []
    },
    {
      "cell_type": "code",
      "metadata": {
        "id": "jlCMErL5mpSM"
      },
      "source": [
        "import numpy as np\n",
        "import matplotlib.pyplot as plt\n",
        "from matplotlib.image import imread\n",
        "from imageai.Detection import ObjectDetection\n",
        "import os"
      ],
      "execution_count": null,
      "outputs": []
    },
    {
      "cell_type": "markdown",
      "metadata": {
        "id": "11vodf_93UE5"
      },
      "source": [
        "# Image detection"
      ]
    },
    {
      "cell_type": "code",
      "metadata": {
        "id": "APNpsyde1nuk"
      },
      "source": [
        "execution_path = os.getcwd() + '/gdrive/My Drive/Colab Notebooks/custom_prediction/' # 결과 파일 저장되어있는 경로\n",
        "\n",
        "detector = ObjectDetection()\n",
        "detector.setModelTypeAsRetinaNet()\n",
        "detector.setModelPath(os.path.join(execution_path, \"model_ex-100_acc-0.800000.h5\")) # 학습 결과 파일\n",
        "detector.loadModel()\n",
        "\n",
        "detections = detector.detectObjectsFromImage(input_image=\"/content/gdrive/My Drive/Colab Notebooks/detect_prediction/input_images/image.jpg\", output_image_path=\"/content/gdrive/My Drive/Colab Notebooks/detect_prediction/output_images/image.jpg\")\n",
        "\n",
        "for eachObject in detections:\n",
        "\n",
        "    print(eachObject[\"name\"] , \" : \" , eachObject[\"percentage_probability\"] )\n",
        "\n",
        "img = imread('/content/gdrive/My Drive/Colab Notebooks/output_images/image.jpg')\n",
        "\n",
        "plt.imshow(img)\n"
      ],
      "execution_count": null,
      "outputs": []
    }
  ]
}