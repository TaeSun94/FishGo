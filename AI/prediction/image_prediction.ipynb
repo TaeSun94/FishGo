{
  "nbformat": 4,
  "nbformat_minor": 0,
  "metadata": {
    "colab": {
      "name": "image_prediction",
      "provenance": [],
      "collapsed_sections": []
    },
    "kernelspec": {
      "name": "python3",
      "display_name": "Python 3"
    },
    "accelerator": "GPU"
  },
  "cells": [
    {
      "cell_type": "markdown",
      "metadata": {
        "id": "n7Jxmevl19oj"
      },
      "source": [
        "# Ref site: https://medium.com/edit-name/imageai-image-%EC%9D%B8%EC%8B%9D%EC%9D%84-%EB%AA%87-%EC%A4%84%EC%9D%98-%EC%BD%94%EB%93%9C%EB%A1%9C-%ED%95%A0-%EC%88%98-%EC%9E%88%EB%8B%A8%EB%8B%A4-95ee9edc17eehttps://medium.com/edit-name/imageai-image-%EC%9D%B8%EC%8B%9D%EC%9D%84-%EB%AA%87-%EC%A4%84%EC%9D%98-%EC%BD%94%EB%93%9C%EB%A1%9C-%ED%95%A0-%EC%88%98-%EC%9E%88%EB%8B%A8%EB%8B%A4-95ee9edc17ee"
      ]
    },
    {
      "cell_type": "markdown",
      "metadata": {
        "id": "-0AOXZP80VtH"
      },
      "source": [
        "# 텐서플로우 버전 변경"
      ]
    },
    {
      "cell_type": "code",
      "metadata": {
        "id": "JMxG6RIR0Qt_"
      },
      "source": [
        "!pip uninstall tensorflow"
      ],
      "execution_count": null,
      "outputs": []
    },
    {
      "cell_type": "code",
      "metadata": {
        "id": "charDqSb0VAU"
      },
      "source": [
        "!pip install tensorflow==1.15"
      ],
      "execution_count": null,
      "outputs": []
    },
    {
      "cell_type": "markdown",
      "metadata": {
        "id": "6D958wY80Yeo"
      },
      "source": [
        "# google drive 연결\n"
      ]
    },
    {
      "cell_type": "code",
      "metadata": {
        "id": "q3lI2zOo0eQ9"
      },
      "source": [
        "from google.colab import drive\n",
        "drive.mount('/content/gdrive')"
      ],
      "execution_count": null,
      "outputs": []
    },
    {
      "cell_type": "markdown",
      "metadata": {
        "id": "BHt5wjfu0gJB"
      },
      "source": [
        "# 필요한 라이브러리 install & import"
      ]
    },
    {
      "cell_type": "code",
      "metadata": {
        "id": "umlNjlz-0iEW"
      },
      "source": [
        "!pip3 install numpy \n",
        "!pip3 install scipy \n",
        "!pip3 install opencv-python \n",
        "!pip3 install pillow \n",
        "!pip3 install matplotlib \n",
        "!pip3 install h5py \n",
        "!pip3 install keras"
      ],
      "execution_count": null,
      "outputs": []
    },
    {
      "cell_type": "code",
      "metadata": {
        "id": "IAM2ROP40kCD"
      },
      "source": [
        "!pip3 install https://github.com/OlafenwaMoses/ImageAI/releases/download/2.0.2/imageai-2.0.2-py3-none-any.whl"
      ],
      "execution_count": null,
      "outputs": []
    },
    {
      "cell_type": "code",
      "metadata": {
        "id": "QBNgctzcznA_"
      },
      "source": [
        "from imageai.Prediction.Custom import CustomImagePrediction\n",
        "import os\n",
        "%pylab inline\n",
        "import matplotlib.pyplot as plt\n",
        "import matplotlib.image as mpimg"
      ],
      "execution_count": null,
      "outputs": []
    },
    {
      "cell_type": "markdown",
      "metadata": {
        "id": "aKLWzoDgz419"
      },
      "source": [
        "# 학습 결과로 예측"
      ]
    },
    {
      "cell_type": "code",
      "metadata": {
        "id": "H4FHCnBM2RwF"
      },
      "source": [
        "execution_path = os.getcwd() + '/gdrive/My Drive/Colab Notebooks/custom_prediction/' \n",
        "\n",
        "prediction = CustomImagePrediction()\n",
        "prediction.setModelTypeAsResNet()\n",
        "prediction.setModelPath(\n",
        "    os.path.join(execution_path, \"model_ex-100_acc-0.800000.h5\")\n",
        ")\n",
        "prediction.setJsonPath(\n",
        "    os.path.join(execution_path, \"model_class.json\")\n",
        ")\n",
        "prediction.loadModel(num_objects=4)\n",
        "\n",
        "file='쏘가리테스트5.jpg'\n",
        "predictions, probabilities = prediction.predictImage(\n",
        "    os.path.join(execution_path, file), result_count=4\n",
        ")\n",
        "\n",
        "img=mpimg.imread(\n",
        "    os.path.join(execution_path, file)\n",
        ")\n",
        "imgplot = plt.imshow(img)\n",
        "plt.show()\n",
        "\n",
        "for eachPrediction, eachProbability in zip(predictions, probabilities) :\n",
        "  print(eachPrediction + \" : \" + eachProbability)"
      ],
      "execution_count": null,
      "outputs": []
    }
  ]
}